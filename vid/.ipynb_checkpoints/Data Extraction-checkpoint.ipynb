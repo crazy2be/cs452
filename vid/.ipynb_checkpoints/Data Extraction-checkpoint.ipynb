{
 "metadata": {
  "name": "",
  "signature": "sha256:476ab33c9934a3667fed340513e4507271d4ab93ba92459ce10e662a8f8b9ac4"
 },
 "nbformat": 3,
 "nbformat_minor": 0,
 "worksheets": [
  {
   "cells": [
    {
     "cell_type": "code",
     "collapsed": false,
     "input": [
      "%pylab inline\n",
      "from PIL import Image\n",
      "import scipy\n",
      "import skimage\n",
      "import skimage.filters\n",
      "import numpy as np\n",
      "import time\n",
      "\n",
      "greenish = numpy.array((186., 230., 105.))/255\n",
      "frameNum = 2416\n",
      "raw = skimage.img_as_float(Image.open('4/raw/%04d.png' % frameNum))\n",
      "filtered = raw.copy()\n",
      "a = filtered[:,:] - greenish\n",
      "filtered[np.sqrt((a*a).sum(axis=2)) > 0.225] = (0, 0, 0)\n",
      "\n",
      "# Mask out the bottle we accidentally in the picture.\n",
      "for i in range(450, 500):\n",
      "    #if i > 455 and i < 495: continue\n",
      "    for j in range(850, 950):\n",
      "        filtered[i, j] = (0, 0, 0)\n",
      "            \n",
      "#plt.imshow(filtered)\n",
      "#scipy.misc.imsave('4/train/%04d.png' % frameNum, filtered)\n",
      "data = \"Center: for %d: \" % i, scipy.ndimage.measurements.center_of_mass(filtered)\n",
      "print data"
     ],
     "language": "python",
     "metadata": {},
     "outputs": [
      {
       "output_type": "stream",
       "stream": "stdout",
       "text": [
        "Populating the interactive namespace from numpy and matplotlib\n"
       ]
      },
      {
       "ename": "NameError",
       "evalue": "name 'open_time' is not defined",
       "output_type": "pyerr",
       "traceback": [
        "\u001b[1;31m---------------------------------------------------------------------------\u001b[0m\n\u001b[1;31mNameError\u001b[0m                                 Traceback (most recent call last)",
        "\u001b[1;32m<ipython-input-1-8a6a85c72536>\u001b[0m in \u001b[0;36m<module>\u001b[1;34m()\u001b[0m\n\u001b[0;32m     24\u001b[0m \u001b[0msave_time\u001b[0m \u001b[1;33m=\u001b[0m \u001b[0mtime\u001b[0m\u001b[1;33m.\u001b[0m\u001b[0mtime\u001b[0m\u001b[1;33m(\u001b[0m\u001b[1;33m)\u001b[0m\u001b[1;33m\u001b[0m\u001b[0m\n\u001b[0;32m     25\u001b[0m \u001b[0mdata\u001b[0m \u001b[1;33m=\u001b[0m \u001b[1;34m\"Center: for %d: \"\u001b[0m \u001b[1;33m%\u001b[0m \u001b[0mi\u001b[0m\u001b[1;33m,\u001b[0m \u001b[0mscipy\u001b[0m\u001b[1;33m.\u001b[0m\u001b[0mndimage\u001b[0m\u001b[1;33m.\u001b[0m\u001b[0mmeasurements\u001b[0m\u001b[1;33m.\u001b[0m\u001b[0mcenter_of_mass\u001b[0m\u001b[1;33m(\u001b[0m\u001b[0mfiltered\u001b[0m\u001b[1;33m)\u001b[0m\u001b[1;33m\u001b[0m\u001b[0m\n\u001b[1;32m---> 26\u001b[1;33m \u001b[1;32mprint\u001b[0m \u001b[0mopen_time\u001b[0m \u001b[1;33m-\u001b[0m \u001b[0mstart_time\u001b[0m\u001b[1;33m,\u001b[0m \u001b[0mfilter_time\u001b[0m \u001b[1;33m-\u001b[0m \u001b[0mopen_time\u001b[0m\u001b[1;33m,\u001b[0m \u001b[0mbottle_time\u001b[0m \u001b[1;33m-\u001b[0m \u001b[0mfilter_time\u001b[0m\u001b[1;33m,\u001b[0m \u001b[0msave_time\u001b[0m \u001b[1;33m-\u001b[0m \u001b[0mbottle_time\u001b[0m\u001b[1;33m\u001b[0m\u001b[0m\n\u001b[0m\u001b[0;32m     27\u001b[0m \u001b[1;32mprint\u001b[0m \u001b[0mdata\u001b[0m\u001b[1;33m\u001b[0m\u001b[0m\n",
        "\u001b[1;31mNameError\u001b[0m: name 'open_time' is not defined"
       ]
      }
     ],
     "prompt_number": 1
    }
   ],
   "metadata": {}
  }
 ]
}