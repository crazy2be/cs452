{
 "metadata": {
  "name": "",
  "signature": "sha256:dad1cb81d81e11aeebb6711dc9d9c9e0d6e09189c53b7dc426e9cec76f94e75f"
 },
 "nbformat": 3,
 "nbformat_minor": 0,
 "worksheets": [
  {
   "cells": [
    {
     "cell_type": "code",
     "collapsed": false,
     "input": [
      "%pylab inline\n",
      "from PIL import Image\n",
      "import scipy\n",
      "import skimage\n",
      "import skimage.filters\n",
      "import numpy as np\n",
      "import time\n",
      "\n",
      "greenish = numpy.array((186., 230., 105.))/255\n",
      "frameNum = 2416\n",
      "raw = skimage.img_as_float(Image.open('4/raw/%04d.png' % frameNum))\n",
      "filtered = raw.copy()\n",
      "a = filtered[:,:] - greenish\n",
      "filtered[np.sqrt((a*a).sum(axis=2)) > 0.225] = (0, 0, 0)\n",
      "\n",
      "# Mask out the bottle we accidentally in the picture.\n",
      "for i in range(450, 500):\n",
      "    #if i > 455 and i < 495: continue\n",
      "    for j in range(850, 950):\n",
      "        filtered[i, j] = (0, 0, 0)\n",
      "            \n",
      "plt.imshow(filtered)\n",
      "#scipy.misc.imsave('4/train/%04d.png' % frameNum, filtered)\n",
      "data = \"Center: for %d: \" % i, scipy.ndimage.measurements.center_of_mass(filtered)\n",
      "print data"
     ],
     "language": "python",
     "metadata": {},
     "outputs": [
      {
       "output_type": "stream",
       "stream": "stdout",
       "text": [
        "Populating the interactive namespace from numpy and matplotlib\n",
        "('Center: for 499: ', (228.57294261378593, 64.403477795381662, 0.84753994327429083))"
       ]
      },
      {
       "output_type": "stream",
       "stream": "stdout",
       "text": [
        "\n"
       ]
      },
      {
       "metadata": {},
       "output_type": "display_data",
       "png": "[encoded data removed]",
       "text": [
        "<matplotlib.figure.Figure at 0x7f225dfc0f90>"
       ]
      }
     ],
     "prompt_number": 3
    }
   ],
   "metadata": {}
  }
 ]
}